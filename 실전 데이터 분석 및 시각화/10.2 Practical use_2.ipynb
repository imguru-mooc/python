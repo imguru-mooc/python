{
 "cells": [
  {
   "cell_type": "markdown",
   "metadata": {},
   "source": [
    "## 구글 지오 코딩 1"
   ]
  },
  {
   "cell_type": "code",
   "execution_count": 2,
   "metadata": {},
   "outputs": [
    {
     "name": "stdout",
     "output_type": "stream",
     "text": [
      "{'location': {'lat': 37.5709641, 'lng': 126.9777645}, 'location_type': 'ROOFTOP', 'viewport': {'northeast': {'lat': 37.57231308029149, 'lng': 126.9791134802915}, 'southwest': {'lat': 37.56961511970849, 'lng': 126.9764155197085}}}\n",
      "\n",
      "\n",
      "위도: 37.5709641\n",
      "경도: 126.9777645\n"
     ]
    }
   ],
   "source": [
    "import googlemaps\n",
    "\n",
    "my_key = \"----발급받은 API 키를 입력-----\"\n",
    "\n",
    "maps = googlemaps.Client(key=my_key)\n",
    "\n",
    "place = \"교보문고 광화문점\"\n",
    "\n",
    "geo_location = maps.geocode(place)[0].get('geometry')\n",
    "print(geo_location)\n",
    "print(\"\\n\")\n",
    "\n",
    "lat = geo_location['location']['lat']\n",
    "lng = geo_location['location']['lng']\n",
    "\n",
    "print(\"위도:\", lat)\n",
    "print(\"경도:\", lng)"
   ]
  },
  {
   "cell_type": "markdown",
   "metadata": {},
   "source": [
    "## 구글 지오 코딩 2"
   ]
  },
  {
   "cell_type": "code",
   "execution_count": 3,
   "metadata": {},
   "outputs": [
    {
     "name": "stdout",
     "output_type": "stream",
     "text": [
      "0 서울 종로구 종로 1 교보생명빌딩\n",
      "1 통영시청\n",
      "2 광주비엔날레\n",
      "\n",
      "\n",
      "                   장소         위도          경도\n",
      "0  서울 종로구 종로 1 교보생명빌딩  37.571089  126.977808\n",
      "1                통영시청  34.854415  128.433210\n",
      "2              광주비엔날레  35.182278  126.889094\n"
     ]
    }
   ],
   "source": [
    "import googlemaps\n",
    "import pandas as pd\n",
    "\n",
    "my_key = \"----발급받은 API 키를 입력-----\"\n",
    "\n",
    "maps = googlemaps.Client(key=my_key)\n",
    "\n",
    "lat = []; lng = []  \n",
    "\n",
    "place_list = [\"서울 종로구 종로 1 교보생명빌딩\", \"통영시청\", \"광주비엔날레\"]\n",
    "\n",
    "for i, place in enumerate(place_list):   \n",
    "    try:\n",
    "        print(i, place)\n",
    "        geo_location = maps.geocode(place)[0].get('geometry')\n",
    "        lat.append(geo_location['location']['lat'])\n",
    "        lng.append(geo_location['location']['lng'])\n",
    "        \n",
    "    except:\n",
    "        lat.append(None)\n",
    "        lng.append(None)\n",
    "\n",
    "df = pd.DataFrame({'장소':place_list, '위도':lat, '경도':lng})\n",
    "print('\\n')\n",
    "print(df)"
   ]
  },
  {
   "cell_type": "markdown",
   "metadata": {},
   "source": [
    "## 구글 지오 코딩 3"
   ]
  },
  {
   "cell_type": "code",
   "execution_count": 5,
   "metadata": {},
   "outputs": [
    {
     "name": "stdout",
     "output_type": "stream",
     "text": [
      "https://www.google.co.kr/maps/@37.5725254,126.9756429,17z?hl=ko\n"
     ]
    },
    {
     "data": {
      "text/plain": [
       "True"
      ]
     },
     "execution_count": 5,
     "metadata": {},
     "output_type": "execute_result"
    }
   ],
   "source": [
    "import googlemaps\n",
    "import webbrowser\n",
    "\n",
    "my_key = \"----발급받은 API 키를 입력-----\"\n",
    "\n",
    "maps = googlemaps.Client(key=my_key)\n",
    "\n",
    "place = \"세종문화회관\"\n",
    "\n",
    "geo_location = maps.geocode(place)[0].get('geometry')\n",
    "\n",
    "lat = geo_location['location']['lat']\n",
    "lng = geo_location['location']['lng']\n",
    "\n",
    "zoom=17\n",
    "google_map_url = \"https://www.google.co.kr/maps/@\"+str(lat)+\",\"+str(lng)+\",\"+str(zoom)+\"z?hl=ko\"\n",
    "print(google_map_url)\n",
    "\n",
    "webbrowser.open(google_map_url)"
   ]
  },
  {
   "cell_type": "markdown",
   "metadata": {},
   "source": [
    "## 구글 지오 코딩 4"
   ]
  },
  {
   "cell_type": "code",
   "execution_count": 7,
   "metadata": {},
   "outputs": [],
   "source": [
    "import folium\n",
    "\n",
    "seoul_map1 = folium.Map(location=[37.55,126.98], zoom_start=12)\n",
    "\n",
    "seoul_map2 = folium.Map(location=[37.55,126.98], tiles='Stamen Terrain', \n",
    "                        zoom_start=9)\n",
    "\n",
    "seoul_map3 = folium.Map(location=[37.55,126.98], tiles='Stamen Toner', \n",
    "                        zoom_start=15)\n",
    "\n",
    "seoul_map1.save('seoul1.html')\n",
    "seoul_map2.save('seoul2.html')\n",
    "seoul_map3.save('seoul3.html')"
   ]
  },
  {
   "cell_type": "markdown",
   "metadata": {},
   "source": [
    "## 구글 지오 코딩 5"
   ]
  },
  {
   "cell_type": "code",
   "execution_count": 1,
   "metadata": {},
   "outputs": [
    {
     "name": "stdout",
     "output_type": "stream",
     "text": [
      "                  명칭         위도          경도   대수\n",
      "0      당산근린공원지하공영(구)  37.525526  126.895794  190\n",
      "1           대림운동장(구)  37.499657  126.894838  192\n",
      "2  구로디지털단지역 환승주차장(시)  37.485432  126.901243   93\n",
      "3          논현로22길(구)  37.481501  127.047813  100\n",
      "4       남산동 공영주차장(구)  37.559237  126.985624   49\n"
     ]
    }
   ],
   "source": [
    "import pandas as pd\n",
    "import folium\n",
    "\n",
    "pd.set_option('display.max_columns', 30)\n",
    "\n",
    "df = pd.read_csv('parking.csv')\n",
    "df = df[['주차장명', '주차장 위치 좌표 위도', '주차장 위치 좌표 경도', '주차 면(주차 가능 차량 수)']]\n",
    "df.columns = ['명칭', '위도', '경도', '대수']\n",
    "df = df.dropna(axis=0)\n",
    "print(df.head())\n",
    "\n",
    "parking_map = folium.Map(location=[37.55,126.98], tiles='Stamen Terrain', \n",
    "                        zoom_start=12)\n",
    "\n",
    "for name, lat, lng in zip(df.명칭, df.위도, df.경도):\n",
    "    folium.Marker([lat, lng],\n",
    "                  icon=folium.Icon(color='red',icon='info-sign'),\n",
    "                  popup=name).add_to(parking_map)\n",
    "\n",
    "parking_map.save('parking_map.html')"
   ]
  },
  {
   "cell_type": "markdown",
   "metadata": {},
   "source": [
    "## 구글 지오 코딩 6"
   ]
  },
  {
   "cell_type": "code",
   "execution_count": 10,
   "metadata": {},
   "outputs": [
    {
     "name": "stdout",
     "output_type": "stream",
     "text": [
      "                  명칭         위도          경도   대수\n",
      "0      당산근린공원지하공영(구)  37.525526  126.895794  190\n",
      "1           대림운동장(구)  37.499657  126.894838  192\n",
      "2  구로디지털단지역 환승주차장(시)  37.485432  126.901243   93\n",
      "3          논현로22길(구)  37.481501  127.047813  100\n",
      "4       남산동 공영주차장(구)  37.559237  126.985624   49\n",
      "\n",
      "\n"
     ]
    }
   ],
   "source": [
    "import pandas as pd\n",
    "import folium\n",
    "\n",
    "pd.set_option('display.max_columns', 30)\n",
    "\n",
    "df = pd.read_csv('parking.csv')\n",
    "df = df[['주차장명', '주차장 위치 좌표 위도', '주차장 위치 좌표 경도', '주차 면(주차 가능 차량 수)']]\n",
    "df.columns = ['명칭', '위도', '경도', '대수']\n",
    "df = df.dropna(axis=0)\n",
    "print(df.head())\n",
    "print(\"\\n\")\n",
    "\n",
    "parking_map = folium.Map(location=[37.55,126.98], tiles='Stamen Terrain', \n",
    "                        zoom_start=12)\n",
    "\n",
    "for name, lat, lng, num in zip(df.명칭, df.위도, df.경도, df.대수):\n",
    "    folium.CircleMarker([lat, lng],\n",
    "                        radius=num/30,         \n",
    "                        color='red',   \n",
    "                        linewidth=0.1,\n",
    "                        fill=True,\n",
    "                        fill_color='orange',    \n",
    "                        fill_opacity=0.75,    \n",
    "                        popup=name\n",
    "    ).add_to(parking_map)\n",
    "\n",
    "parking_map.save('parking_map_cricle.html')"
   ]
  },
  {
   "cell_type": "code",
   "execution_count": null,
   "metadata": {},
   "outputs": [],
   "source": []
  }
 ],
 "metadata": {
  "kernelspec": {
   "display_name": "Python 3",
   "language": "python",
   "name": "python3"
  },
  "language_info": {
   "codemirror_mode": {
    "name": "ipython",
    "version": 3
   },
   "file_extension": ".py",
   "mimetype": "text/x-python",
   "name": "python",
   "nbconvert_exporter": "python",
   "pygments_lexer": "ipython3",
   "version": "3.7.6"
  }
 },
 "nbformat": 4,
 "nbformat_minor": 4
}
