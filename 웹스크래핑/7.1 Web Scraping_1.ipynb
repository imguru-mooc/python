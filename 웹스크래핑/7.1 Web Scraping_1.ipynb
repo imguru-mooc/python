{
 "cells": [
  {
   "cell_type": "markdown",
   "metadata": {},
   "source": [
    "## 웹 서버에 요청하고 응답받기"
   ]
  },
  {
   "cell_type": "code",
   "execution_count": null,
   "metadata": {},
   "outputs": [],
   "source": [
    "import requests\n",
    "\n",
    "url = \"https://www.python.org/\"\n",
    "resp = requests.get(url)\n",
    "print(resp)\n",
    "\n",
    "url2 = \"https://www.python.org/1\"\n",
    "resp2 = requests.get(url2)\n",
    "print(resp2)"
   ]
  },
  {
   "cell_type": "markdown",
   "metadata": {},
   "source": [
    "## 웹 페이지 소스코드 확인하기"
   ]
  },
  {
   "cell_type": "code",
   "execution_count": null,
   "metadata": {},
   "outputs": [],
   "source": [
    "import requests\n",
    "\n",
    "url = \"https://www.python.org/\"\n",
    "resp = requests.get(url)\n",
    "\n",
    "html = resp.text\n",
    "print(html)"
   ]
  },
  {
   "cell_type": "markdown",
   "metadata": {},
   "source": [
    "## 로봇 배제 표준(robots.txt)"
   ]
  },
  {
   "cell_type": "code",
   "execution_count": null,
   "metadata": {},
   "outputs": [],
   "source": [
    "import requests\n",
    "\n",
    "urls = [\"https://www.naver.com/\", \"https://www.python.org/\"]\n",
    "filename= \"robots.txt\"\n",
    "\n",
    "for url in urls:\n",
    "    file_path = url + filename\n",
    "    print(file_path)\n",
    "    resp = requests.get(file_path)\n",
    "    print(resp.text)\n",
    "    print(\"\\n\")"
   ]
  },
  {
   "cell_type": "markdown",
   "metadata": {},
   "source": [
    "## BeautifulSoup 객체 만들기"
   ]
  },
  {
   "cell_type": "code",
   "execution_count": null,
   "metadata": {},
   "outputs": [],
   "source": [
    "import requests\n",
    "from bs4 import BeautifulSoup\n",
    "\n",
    "url = \"https://en.wikipedia.org/wiki/Seoul_Metropolitan_Subway\"\n",
    "resp = requests.get(url)\n",
    "html_src = resp.text\n",
    "# html_src\n",
    "soup = BeautifulSoup(html_src, 'html.parser')\n",
    "print(type(soup))\n",
    "print(\"\\n\")\n",
    "                  \n",
    "# print(soup.head)\n",
    "# print(\"\\n\")\n",
    "# print(soup.body)\n",
    "# print(\"\\n\")\n",
    "\n",
    "print('title 태그 요소: ', soup.title)\n",
    "print('title 태그 이름: ', soup.title.name)\n",
    "print('title 태그 문자열: ', soup.title.string)"
   ]
  },
  {
   "cell_type": "markdown",
   "metadata": {},
   "source": [
    "## 크롬 개발자 도구"
   ]
  },
  {
   "cell_type": "code",
   "execution_count": null,
   "metadata": {},
   "outputs": [],
   "source": [
    "import requests\n",
    "from bs4 import BeautifulSoup\n",
    "\n",
    "url = \"https://en.wikipedia.org/wiki/Seoul_Metropolitan_Subway\"\n",
    "resp = requests.get(url)\n",
    "html_src = resp.text\n",
    "\n",
    "soup = BeautifulSoup(html_src, 'html.parser')\n",
    "                    \n",
    "first_img = soup.find(name='img')\n",
    "print(first_img)\n",
    "print(\"\\n\")\n",
    "\n",
    "target_img = soup.find(name='img', attrs={'alt':'Seoul-metro-2009-20180916-103548.jpg'})\n",
    "print(target_img)"
   ]
  },
  {
   "cell_type": "markdown",
   "metadata": {},
   "source": [
    "## 웹 문서의 그림 이미지 파일을 PC에 저장하기"
   ]
  },
  {
   "cell_type": "code",
   "execution_count": null,
   "metadata": {},
   "outputs": [],
   "source": [
    "import requests\n",
    "from bs4 import BeautifulSoup\n",
    "\n",
    "url = \"https://en.wikipedia.org/wiki/Seoul_Metropolitan_Subway\"\n",
    "resp = requests.get(url)\n",
    "html_src = resp.text\n",
    "\n",
    "soup = BeautifulSoup(html_src, 'html.parser')\n",
    "                    \n",
    "target_img = soup.find(name='img', attrs={'alt':'Seoul-metro-2009-20180916-103548.jpg'})\n",
    "print('HTML 요소: ', target_img)\n",
    "print(\"\\n\")\n",
    "\n",
    "target_img_src = target_img.get('src')\n",
    "print('이미지 파일 경로: ', target_img_src)\n",
    "print(\"\\n\")\n",
    "\n",
    "target_img_resp = requests.get('http:' + target_img_src)\n",
    "out_file_path = \"download_image.jpg\"\n",
    "\n",
    "with open(out_file_path, 'wb') as out_file:\n",
    "    out_file.write(target_img_resp.content)\n",
    "    print(\"이미지 파일로 저장하였습니다.\")"
   ]
  },
  {
   "cell_type": "markdown",
   "metadata": {},
   "source": [
    "## 웹 문서에 포함된 모든 하이퍼링크 추출하기"
   ]
  },
  {
   "cell_type": "code",
   "execution_count": null,
   "metadata": {},
   "outputs": [],
   "source": [
    "import requests, re\n",
    "from bs4 import BeautifulSoup\n",
    "\n",
    "url = \"https://en.wikipedia.org/wiki/Seoul_Metropolitan_Subway\"\n",
    "resp = requests.get(url)\n",
    "html_src = resp.text\n",
    "soup = BeautifulSoup(html_src, 'html.parser')\n",
    "                    \n",
    "links = soup.find_all(\"a\")\n",
    "print(\"하이퍼링크의 개수: \", len(links))\n",
    "print(\"\\n\")\n",
    "print(\"첫 3개의 원소: \", links[:3])\n",
    "print(\"\\n\")\n",
    "\n",
    "wiki_links = soup.find_all(name=\"a\", href=re.compile(\"/wiki/\"), limit=3)\n",
    "print(\"/wiki/ 문자열이 포함된 하이퍼링크: \", wiki_links)\n",
    "print(\"\\n\")\n",
    "\n",
    "external_links = soup.find_all(name=\"a\", attrs={\"class\":\"external text\"}, limit=3)\n",
    "print(\"class 속성으로 추출한 하이퍼링크: \", external_links)"
   ]
  },
  {
   "cell_type": "code",
   "execution_count": null,
   "metadata": {},
   "outputs": [],
   "source": []
  }
 ],
 "metadata": {
  "kernelspec": {
   "display_name": "Python 3 (ipykernel)",
   "language": "python",
   "name": "python3"
  },
  "language_info": {
   "codemirror_mode": {
    "name": "ipython",
    "version": 3
   },
   "file_extension": ".py",
   "mimetype": "text/x-python",
   "name": "python",
   "nbconvert_exporter": "python",
   "pygments_lexer": "ipython3",
   "version": "3.9.7"
  }
 },
 "nbformat": 4,
 "nbformat_minor": 4
}
