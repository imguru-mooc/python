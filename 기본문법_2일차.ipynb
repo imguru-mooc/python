{
 "cells": [
  {
   "cell_type": "markdown",
   "id": "4ff3d20d",
   "metadata": {},
   "source": [
    "### 리스트 응용하기"
   ]
  },
  {
   "cell_type": "code",
   "execution_count": 2,
   "id": "a9d63e04",
   "metadata": {},
   "outputs": [
    {
     "name": "stdout",
     "output_type": "stream",
     "text": [
      "[10, 20, 30, 500]\n"
     ]
    },
    {
     "data": {
      "text/plain": [
       "4"
      ]
     },
     "execution_count": 2,
     "metadata": {},
     "output_type": "execute_result"
    }
   ],
   "source": [
    "a = [10, 20, 30]\n",
    "a.append(500)\n",
    "print(a)\n",
    "len(a)"
   ]
  },
  {
   "cell_type": "code",
   "execution_count": 3,
   "id": "20b31b17",
   "metadata": {},
   "outputs": [
    {
     "name": "stdout",
     "output_type": "stream",
     "text": [
      "[10]\n"
     ]
    },
    {
     "data": {
      "text/plain": [
       "1"
      ]
     },
     "execution_count": 3,
     "metadata": {},
     "output_type": "execute_result"
    }
   ],
   "source": [
    "a = []\n",
    "a.append(10)\n",
    "print(a)\n",
    "len(a)"
   ]
  },
  {
   "cell_type": "code",
   "execution_count": 4,
   "id": "c0c669f7",
   "metadata": {},
   "outputs": [
    {
     "name": "stdout",
     "output_type": "stream",
     "text": [
      "[10, 20, 30, [500, 600]]\n"
     ]
    },
    {
     "data": {
      "text/plain": [
       "4"
      ]
     },
     "execution_count": 4,
     "metadata": {},
     "output_type": "execute_result"
    }
   ],
   "source": [
    "a = [10, 20, 30]\n",
    "a.append([500,600])\n",
    "print(a)\n",
    "len(a)"
   ]
  },
  {
   "cell_type": "code",
   "execution_count": 5,
   "id": "55758390",
   "metadata": {},
   "outputs": [
    {
     "name": "stdout",
     "output_type": "stream",
     "text": [
      "[10, 20, 30, 500, 600]\n"
     ]
    },
    {
     "data": {
      "text/plain": [
       "5"
      ]
     },
     "execution_count": 5,
     "metadata": {},
     "output_type": "execute_result"
    }
   ],
   "source": [
    "a = [10, 20, 30]\n",
    "a.extend([500,600])\n",
    "print(a)\n",
    "len(a)"
   ]
  },
  {
   "cell_type": "code",
   "execution_count": 6,
   "id": "23796889",
   "metadata": {},
   "outputs": [
    {
     "name": "stdout",
     "output_type": "stream",
     "text": [
      "[10, 20, 500, 30]\n"
     ]
    },
    {
     "data": {
      "text/plain": [
       "4"
      ]
     },
     "execution_count": 6,
     "metadata": {},
     "output_type": "execute_result"
    }
   ],
   "source": [
    "a = [10, 20, 30]\n",
    "a.insert(2, 500)\n",
    "print(a)\n",
    "len(a)"
   ]
  },
  {
   "cell_type": "code",
   "execution_count": 7,
   "id": "2d2a9ad5",
   "metadata": {},
   "outputs": [
    {
     "name": "stdout",
     "output_type": "stream",
     "text": [
      "[500, 10, 20, 30]\n"
     ]
    },
    {
     "data": {
      "text/plain": [
       "4"
      ]
     },
     "execution_count": 7,
     "metadata": {},
     "output_type": "execute_result"
    }
   ],
   "source": [
    "a = [10, 20, 30]\n",
    "a.insert(0, 500)\n",
    "print(a)\n",
    "len(a)"
   ]
  },
  {
   "cell_type": "code",
   "execution_count": 9,
   "id": "199c1e15",
   "metadata": {},
   "outputs": [
    {
     "name": "stdout",
     "output_type": "stream",
     "text": [
      "[10, 20, 30, 500]\n"
     ]
    },
    {
     "data": {
      "text/plain": [
       "4"
      ]
     },
     "execution_count": 9,
     "metadata": {},
     "output_type": "execute_result"
    }
   ],
   "source": [
    "a = [10, 20, 30]\n",
    "a.insert(len(a), 500)\n",
    "print(a)\n",
    "len(a)"
   ]
  },
  {
   "cell_type": "code",
   "execution_count": 11,
   "id": "3dfa5453",
   "metadata": {},
   "outputs": [
    {
     "name": "stdout",
     "output_type": "stream",
     "text": [
      "[10, [500, 600], 20, 30]\n"
     ]
    },
    {
     "data": {
      "text/plain": [
       "4"
      ]
     },
     "execution_count": 11,
     "metadata": {},
     "output_type": "execute_result"
    }
   ],
   "source": [
    "a = [10, 20, 30]\n",
    "a.insert(1, [500,600])\n",
    "print(a)\n",
    "len(a)"
   ]
  },
  {
   "cell_type": "code",
   "execution_count": 12,
   "id": "fcd30722",
   "metadata": {},
   "outputs": [
    {
     "name": "stdout",
     "output_type": "stream",
     "text": [
      "[10, 500, 600, 20, 30]\n"
     ]
    },
    {
     "data": {
      "text/plain": [
       "5"
      ]
     },
     "execution_count": 12,
     "metadata": {},
     "output_type": "execute_result"
    }
   ],
   "source": [
    "a = [10, 20, 30]\n",
    "a[1:1] =  [500,600]\n",
    "print(a)\n",
    "len(a)"
   ]
  },
  {
   "cell_type": "markdown",
   "id": "95ab1618",
   "metadata": {},
   "source": [
    "### 리스트에서 요소 삭제하기"
   ]
  },
  {
   "cell_type": "code",
   "execution_count": 13,
   "id": "564def0d",
   "metadata": {},
   "outputs": [
    {
     "name": "stdout",
     "output_type": "stream",
     "text": [
      "30\n",
      "[10, 20]\n"
     ]
    },
    {
     "data": {
      "text/plain": [
       "2"
      ]
     },
     "execution_count": 13,
     "metadata": {},
     "output_type": "execute_result"
    }
   ],
   "source": [
    "a = [10, 20, 30]\n",
    "data = a.pop()\n",
    "print(data)\n",
    "print(a)\n",
    "len(a)"
   ]
  },
  {
   "cell_type": "code",
   "execution_count": 14,
   "id": "8329615e",
   "metadata": {},
   "outputs": [
    {
     "name": "stdout",
     "output_type": "stream",
     "text": [
      "20\n",
      "[10, 30]\n"
     ]
    },
    {
     "data": {
      "text/plain": [
       "2"
      ]
     },
     "execution_count": 14,
     "metadata": {},
     "output_type": "execute_result"
    }
   ],
   "source": [
    "a = [10, 20, 30]\n",
    "data = a.pop(1)\n",
    "print(data)\n",
    "print(a)\n",
    "len(a)"
   ]
  },
  {
   "cell_type": "code",
   "execution_count": 15,
   "id": "d3fdb1f0",
   "metadata": {},
   "outputs": [
    {
     "name": "stdout",
     "output_type": "stream",
     "text": [
      "[10, 30]\n"
     ]
    },
    {
     "data": {
      "text/plain": [
       "2"
      ]
     },
     "execution_count": 15,
     "metadata": {},
     "output_type": "execute_result"
    }
   ],
   "source": [
    "a = [10, 20, 30]\n",
    "del a[1]\n",
    "print(a)\n",
    "len(a)"
   ]
  },
  {
   "cell_type": "code",
   "execution_count": 16,
   "id": "c46169dc",
   "metadata": {},
   "outputs": [
    {
     "name": "stdout",
     "output_type": "stream",
     "text": [
      "[10, 30]\n"
     ]
    },
    {
     "data": {
      "text/plain": [
       "2"
      ]
     },
     "execution_count": 16,
     "metadata": {},
     "output_type": "execute_result"
    }
   ],
   "source": [
    "a = [10, 20, 30]\n",
    "a.remove(20)\n",
    "print(a)\n",
    "len(a)"
   ]
  },
  {
   "cell_type": "code",
   "execution_count": 17,
   "id": "976ee493",
   "metadata": {},
   "outputs": [
    {
     "name": "stdout",
     "output_type": "stream",
     "text": [
      "1\n"
     ]
    },
    {
     "data": {
      "text/plain": [
       "5"
      ]
     },
     "execution_count": 17,
     "metadata": {},
     "output_type": "execute_result"
    }
   ],
   "source": [
    "a = [10, 20, 30,40,50]\n",
    "idx = a.index(20)\n",
    "print(idx)\n",
    "len(a)"
   ]
  },
  {
   "cell_type": "code",
   "execution_count": 19,
   "id": "a1edd039",
   "metadata": {},
   "outputs": [
    {
     "name": "stdout",
     "output_type": "stream",
     "text": [
      "2\n"
     ]
    }
   ],
   "source": [
    "a = [10, 20, 30,40,20]\n",
    "cnt = a.count(20)\n",
    "print(cnt)"
   ]
  },
  {
   "cell_type": "code",
   "execution_count": 22,
   "id": "e06acd5e",
   "metadata": {},
   "outputs": [
    {
     "name": "stdout",
     "output_type": "stream",
     "text": [
      "[50, 40, 30, 20, 10]\n",
      "[10, 20, 30, 40, 50]\n"
     ]
    }
   ],
   "source": [
    "a = [10, 20, 30,40,50]\n",
    "print(a[::-1])\n",
    "print(a)"
   ]
  },
  {
   "cell_type": "code",
   "execution_count": 23,
   "id": "e92e092a",
   "metadata": {},
   "outputs": [
    {
     "name": "stdout",
     "output_type": "stream",
     "text": [
      "[50, 40, 30, 20, 10]\n"
     ]
    }
   ],
   "source": [
    "a = [10, 20, 30,40,50]\n",
    "a = a[::-1]\n",
    "print(a)"
   ]
  },
  {
   "cell_type": "code",
   "execution_count": 24,
   "id": "47f87164",
   "metadata": {},
   "outputs": [
    {
     "name": "stdout",
     "output_type": "stream",
     "text": [
      "[50, 40, 30, 20, 10]\n"
     ]
    }
   ],
   "source": [
    "a = [10, 20, 30,40,50]\n",
    "a.reverse()\n",
    "print(a)"
   ]
  },
  {
   "cell_type": "code",
   "execution_count": 25,
   "id": "1b4f6fae",
   "metadata": {},
   "outputs": [
    {
     "name": "stdout",
     "output_type": "stream",
     "text": [
      "[1, 2, 3, 4, 5]\n"
     ]
    }
   ],
   "source": [
    "a = [4,3,2,5,1]\n",
    "a.sort()\n",
    "print(a)"
   ]
  },
  {
   "cell_type": "code",
   "execution_count": 26,
   "id": "fea45313",
   "metadata": {},
   "outputs": [
    {
     "name": "stdout",
     "output_type": "stream",
     "text": [
      "[5, 4, 3, 2, 1]\n"
     ]
    }
   ],
   "source": [
    "a = [4,3,2,5,1]\n",
    "a.sort(reverse=True)\n",
    "print(a)"
   ]
  },
  {
   "cell_type": "markdown",
   "id": "6e6889ea",
   "metadata": {},
   "source": [
    "### 리스트의 할당과 복사"
   ]
  },
  {
   "cell_type": "code",
   "execution_count": 28,
   "id": "1555eb76",
   "metadata": {},
   "outputs": [
    {
     "name": "stdout",
     "output_type": "stream",
     "text": [
      "[1, 2, 3, 4, 5]\n",
      "[1, 2, 3, 4, 5]\n"
     ]
    }
   ],
   "source": [
    "a = [1,2,3,4,5]\n",
    "b = a\n",
    "print(a)\n",
    "print(b)"
   ]
  },
  {
   "cell_type": "code",
   "execution_count": 29,
   "id": "3ebf648c",
   "metadata": {},
   "outputs": [
    {
     "name": "stdout",
     "output_type": "stream",
     "text": [
      "[10, 2, 3, 4, 5]\n",
      "[10, 2, 3, 4, 5]\n"
     ]
    }
   ],
   "source": [
    "a = [1,2,3,4,5]\n",
    "b = a\n",
    "b[0] = 10\n",
    "print(a)\n",
    "print(b)"
   ]
  },
  {
   "cell_type": "code",
   "execution_count": 31,
   "id": "513e4dca",
   "metadata": {},
   "outputs": [
    {
     "name": "stdout",
     "output_type": "stream",
     "text": [
      "True\n",
      "0x1bb630c98c0\n",
      "0x1bb630c98c0\n"
     ]
    }
   ],
   "source": [
    "a = [1,2,3,4,5]\n",
    "b = a\n",
    "\n",
    "print(a is b)\n",
    "print(hex(id(a)))\n",
    "print(hex(id(b)))"
   ]
  },
  {
   "cell_type": "code",
   "execution_count": 32,
   "id": "e0c906fd",
   "metadata": {},
   "outputs": [
    {
     "name": "stdout",
     "output_type": "stream",
     "text": [
      "[1, 2, 3, 4, 5]\n",
      "[10, 2, 3, 4, 5]\n"
     ]
    }
   ],
   "source": [
    "a = [1,2,3,4,5]\n",
    "b = a.copy()\n",
    "b[0] = 10\n",
    "print(a)\n",
    "print(b)\n",
    "\n",
    "# print(a is b)\n",
    "# print(hex(id(a)))\n",
    "# print(hex(id(b)))"
   ]
  },
  {
   "cell_type": "code",
   "execution_count": 33,
   "id": "de75ac96",
   "metadata": {},
   "outputs": [
    {
     "name": "stdout",
     "output_type": "stream",
     "text": [
      "[1, 2, 3, 4, 5]\n",
      "[10, 2, 3, 4, 5]\n",
      "False\n",
      "0x1bb630cb100\n",
      "0x1bb630c9600\n"
     ]
    }
   ],
   "source": [
    "a = [1,2,3,4,5]\n",
    "b = a.copy()\n",
    "b[0] = 10\n",
    "print(a)\n",
    "print(b)\n",
    "\n",
    "print(a is b)\n",
    "print(hex(id(a)))\n",
    "print(hex(id(b)))"
   ]
  },
  {
   "cell_type": "code",
   "execution_count": 34,
   "id": "d84210ee",
   "metadata": {},
   "outputs": [
    {
     "name": "stdout",
     "output_type": "stream",
     "text": [
      "1\n",
      "2\n",
      "3\n",
      "4\n",
      "5\n"
     ]
    }
   ],
   "source": [
    "a = [1,2,3,4,5]\n",
    "for i in range(len(a)):\n",
    "    print(a[i])"
   ]
  },
  {
   "cell_type": "code",
   "execution_count": 35,
   "id": "457c8409",
   "metadata": {},
   "outputs": [
    {
     "name": "stdout",
     "output_type": "stream",
     "text": [
      "1\n",
      "2\n",
      "3\n",
      "4\n",
      "5\n"
     ]
    }
   ],
   "source": [
    "a = [1,2,3,4,5]\n",
    "for i in a:\n",
    "    print(i)"
   ]
  },
  {
   "cell_type": "code",
   "execution_count": 36,
   "id": "5cde43f0",
   "metadata": {},
   "outputs": [
    {
     "name": "stdout",
     "output_type": "stream",
     "text": [
      "0 10\n",
      "1 20\n",
      "2 30\n",
      "3 40\n",
      "4 50\n"
     ]
    }
   ],
   "source": [
    "a = [10,20,30,40,50]\n",
    "for i in range(len(a)):\n",
    "    print(i, a[i])"
   ]
  },
  {
   "cell_type": "code",
   "execution_count": 38,
   "id": "2a53e6a4",
   "metadata": {},
   "outputs": [
    {
     "name": "stdout",
     "output_type": "stream",
     "text": [
      "0 10\n",
      "1 20\n",
      "2 30\n",
      "3 40\n",
      "4 50\n"
     ]
    }
   ],
   "source": [
    "a = [10,20,30,40,50]\n",
    "for i, data in enumerate(a):\n",
    "    print(i, data)"
   ]
  },
  {
   "cell_type": "code",
   "execution_count": 39,
   "id": "dab8b9df",
   "metadata": {},
   "outputs": [
    {
     "name": "stdout",
     "output_type": "stream",
     "text": [
      "1\n"
     ]
    }
   ],
   "source": [
    "a = [3,4,5,2,1]\n",
    "\n",
    "temp = a[0]\n",
    "for data in a:\n",
    "    if temp > data:\n",
    "        temp = data\n",
    "        \n",
    "print(temp)"
   ]
  },
  {
   "cell_type": "code",
   "execution_count": 40,
   "id": "d37f6e47",
   "metadata": {},
   "outputs": [
    {
     "name": "stdout",
     "output_type": "stream",
     "text": [
      "1\n"
     ]
    }
   ],
   "source": [
    "a = [3,4,5,2,1]\n",
    "\n",
    "a.sort()\n",
    "        \n",
    "print(a[0])"
   ]
  },
  {
   "cell_type": "code",
   "execution_count": 42,
   "id": "349185e3",
   "metadata": {},
   "outputs": [
    {
     "name": "stdout",
     "output_type": "stream",
     "text": [
      "1\n",
      "5\n"
     ]
    }
   ],
   "source": [
    "a = [3,4,5,2,1]\n",
    "print(min(a))\n",
    "print(max(a))"
   ]
  },
  {
   "cell_type": "code",
   "execution_count": 44,
   "id": "93ce3cb4",
   "metadata": {},
   "outputs": [
    {
     "name": "stdout",
     "output_type": "stream",
     "text": [
      "15\n"
     ]
    }
   ],
   "source": [
    "a = [3,4,5,2,1]\n",
    "sum = 0\n",
    "for data in a:\n",
    "    sum += data\n",
    "    \n",
    "print(sum)"
   ]
  },
  {
   "cell_type": "code",
   "execution_count": 1,
   "id": "05eb279b",
   "metadata": {},
   "outputs": [
    {
     "name": "stdout",
     "output_type": "stream",
     "text": [
      "15\n"
     ]
    }
   ],
   "source": [
    "a = [3,4,5,2,1]\n",
    "    \n",
    "print(sum(a))"
   ]
  },
  {
   "cell_type": "markdown",
   "id": "673b0583",
   "metadata": {},
   "source": [
    "### 리스트 컴프리핸션"
   ]
  },
  {
   "cell_type": "code",
   "execution_count": 3,
   "id": "b2159891",
   "metadata": {},
   "outputs": [
    {
     "name": "stdout",
     "output_type": "stream",
     "text": [
      "[0, 1, 2, 3, 4, 5, 6, 7, 8, 9]\n"
     ]
    }
   ],
   "source": [
    "a = [0, 1, 2, 3, 4, 5, 6, 7, 8, 9]\n",
    "print(a)"
   ]
  },
  {
   "cell_type": "code",
   "execution_count": 4,
   "id": "f105b5be",
   "metadata": {},
   "outputs": [
    {
     "name": "stdout",
     "output_type": "stream",
     "text": [
      "[0, 1, 2, 3, 4, 5, 6, 7, 8, 9]\n"
     ]
    }
   ],
   "source": [
    "a = []\n",
    "for i in range(10):\n",
    "    a.append(i)\n",
    "print(a)"
   ]
  },
  {
   "cell_type": "code",
   "execution_count": 2,
   "id": "63ae3a7c",
   "metadata": {},
   "outputs": [
    {
     "name": "stdout",
     "output_type": "stream",
     "text": [
      "[0, 1, 2, 3, 4, 5, 6, 7, 8, 9]\n"
     ]
    }
   ],
   "source": [
    "a = [ i for i in range(10) ]\n",
    "print(a)"
   ]
  },
  {
   "cell_type": "code",
   "execution_count": 5,
   "id": "36539fad",
   "metadata": {},
   "outputs": [
    {
     "name": "stdout",
     "output_type": "stream",
     "text": [
      "[0, 2, 4, 6, 8, 10, 12, 14, 16, 18]\n"
     ]
    }
   ],
   "source": [
    "a = [ i*2 for i in range(10) ]\n",
    "print(a)"
   ]
  },
  {
   "cell_type": "code",
   "execution_count": 6,
   "id": "5fd6df17",
   "metadata": {},
   "outputs": [
    {
     "name": "stdout",
     "output_type": "stream",
     "text": [
      "[0, 2, 4, 6, 8]\n"
     ]
    }
   ],
   "source": [
    "a = [ i for i in range(10) if i%2 == 0 ]\n",
    "print(a)"
   ]
  },
  {
   "cell_type": "code",
   "execution_count": 7,
   "id": "fea8e72f",
   "metadata": {},
   "outputs": [
    {
     "name": "stdout",
     "output_type": "stream",
     "text": [
      "[0, 2, 4, 6, 8]\n"
     ]
    }
   ],
   "source": [
    "a = [] \n",
    "for i in range(10):\n",
    "    if i%2 == 0:\n",
    "        a.append(i)\n",
    "\n",
    "print(a)"
   ]
  },
  {
   "cell_type": "code",
   "execution_count": 9,
   "id": "7aa96ac1",
   "metadata": {},
   "outputs": [
    {
     "name": "stdout",
     "output_type": "stream",
     "text": [
      "[2, 4, 6, 8, 10, 12, 14, 16, 18, 3, 6, 9, 12, 15, 18, 21, 24, 27, 4, 8, 12, 16, 20, 24, 28, 32, 36, 5, 10, 15, 20, 25, 30, 35, 40, 45, 6, 12, 18, 24, 30, 36, 42, 48, 54, 7, 14, 21, 28, 35, 42, 49, 56, 63, 8, 16, 24, 32, 40, 48, 56, 64, 72, 9, 18, 27, 36, 45, 54, 63, 72, 81]\n"
     ]
    }
   ],
   "source": [
    "a = [ j*i for j in range(2,10) for i in range(1,10) ]\n",
    "\n",
    "print(a)"
   ]
  },
  {
   "cell_type": "code",
   "execution_count": 10,
   "id": "60506de5",
   "metadata": {},
   "outputs": [
    {
     "name": "stdout",
     "output_type": "stream",
     "text": [
      "[2, 4, 6, 8, 10, 12, 14, 16, 18, 3, 6, 9, 12, 15, 18, 21, 24, 27, 4, 8, 12, 16, 20, 24, 28, 32, 36, 5, 10, 15, 20, 25, 30, 35, 40, 45, 6, 12, 18, 24, 30, 36, 42, 48, 54, 7, 14, 21, 28, 35, 42, 49, 56, 63, 8, 16, 24, 32, 40, 48, 56, 64, 72, 9, 18, 27, 36, 45, 54, 63, 72, 81]\n"
     ]
    }
   ],
   "source": [
    "a = []\n",
    "for j in range(2,10):\n",
    "    for i in range(1,10):\n",
    "        a.append(j*i)\n",
    "\n",
    "print(a)"
   ]
  },
  {
   "cell_type": "code",
   "execution_count": 12,
   "id": "86bee984",
   "metadata": {},
   "outputs": [
    {
     "name": "stdout",
     "output_type": "stream",
     "text": [
      "[1, 2, 3, 4]\n"
     ]
    }
   ],
   "source": [
    "a = [1.2, 2.5, 3.7, 4.6]\n",
    "for i in range(len(a)):\n",
    "    a[i] = int(a[i])\n",
    "print(a)"
   ]
  },
  {
   "cell_type": "code",
   "execution_count": 13,
   "id": "b00901ff",
   "metadata": {},
   "outputs": [
    {
     "name": "stdout",
     "output_type": "stream",
     "text": [
      "[1, 2, 3, 4]\n"
     ]
    }
   ],
   "source": [
    "a = [1.2, 2.5, 3.7, 4.6]\n",
    "a = list(map(int, a))\n",
    "print(a)"
   ]
  },
  {
   "cell_type": "code",
   "execution_count": 14,
   "id": "2f5cfe93",
   "metadata": {},
   "outputs": [
    {
     "name": "stdout",
     "output_type": "stream",
     "text": [
      "['0', '1', '2', '3', '4', '5', '6', '7', '8', '9']\n"
     ]
    }
   ],
   "source": [
    "a = list(map(str, range(10)))\n",
    "print(a)"
   ]
  },
  {
   "cell_type": "code",
   "execution_count": 15,
   "id": "4ab2807b",
   "metadata": {},
   "outputs": [
    {
     "data": {
      "text/plain": [
       "(0, 2, 4, 6, 8)"
      ]
     },
     "execution_count": 15,
     "metadata": {},
     "output_type": "execute_result"
    }
   ],
   "source": [
    "a = tuple( i for i in range(10) if i%2 == 0 )\n",
    "a"
   ]
  },
  {
   "cell_type": "code",
   "execution_count": 16,
   "id": "d67c279a",
   "metadata": {},
   "outputs": [
    {
     "data": {
      "text/plain": [
       "<generator object <genexpr> at 0x000002B30A8444A0>"
      ]
     },
     "execution_count": 16,
     "metadata": {},
     "output_type": "execute_result"
    }
   ],
   "source": [
    "a = ( i for i in range(10) if i%2 == 0 )\n",
    "a"
   ]
  },
  {
   "cell_type": "markdown",
   "id": "5f5abbe5",
   "metadata": {},
   "source": [
    "### 2차원 리스트 사용하기"
   ]
  },
  {
   "cell_type": "code",
   "execution_count": 22,
   "id": "52a7ed2d",
   "metadata": {},
   "outputs": [
    {
     "name": "stdout",
     "output_type": "stream",
     "text": [
      "3\n",
      "[3, 4]\n",
      "4\n"
     ]
    }
   ],
   "source": [
    "a = [[1,2],[3,4],[5,6]]\n",
    "print(len(a))\n",
    "print(a[1])\n",
    "print(a[1][1])"
   ]
  },
  {
   "cell_type": "code",
   "execution_count": 25,
   "id": "6c792051",
   "metadata": {},
   "outputs": [
    {
     "name": "stdout",
     "output_type": "stream",
     "text": [
      "1 2\n"
     ]
    }
   ],
   "source": [
    "a,b = [1,2]\n",
    "print(a,b)"
   ]
  },
  {
   "cell_type": "code",
   "execution_count": 26,
   "id": "1cd7e804",
   "metadata": {},
   "outputs": [
    {
     "name": "stdout",
     "output_type": "stream",
     "text": [
      "1 2\n",
      "3 4\n",
      "5 6\n"
     ]
    }
   ],
   "source": [
    "a = [[1,2],[3,4],[5,6]]\n",
    "for x,y in a:\n",
    "    print(x,y)"
   ]
  },
  {
   "cell_type": "code",
   "execution_count": 27,
   "id": "788e036d",
   "metadata": {},
   "outputs": [
    {
     "name": "stdout",
     "output_type": "stream",
     "text": [
      "1 2 \n",
      "3 4 \n",
      "5 6 \n"
     ]
    }
   ],
   "source": [
    "a = [[1,2],[3,4],[5,6]]\n",
    "for i in range(3):\n",
    "    for j in range(2):\n",
    "        print(a[i][j], end= ' ')\n",
    "    print()"
   ]
  },
  {
   "cell_type": "code",
   "execution_count": 30,
   "id": "5ddf0b56",
   "metadata": {},
   "outputs": [
    {
     "name": "stdout",
     "output_type": "stream",
     "text": [
      "1 2 \n",
      "3 4 \n",
      "5 6 \n",
      "7 8 \n"
     ]
    }
   ],
   "source": [
    "a = [[1,2],[3,4],[5,6],[7,8]]\n",
    "for i in range(len(a)):\n",
    "    for j in range(len(a[i])):\n",
    "        print(a[i][j], end= ' ')\n",
    "    print()"
   ]
  },
  {
   "cell_type": "code",
   "execution_count": 31,
   "id": "a5d715e0",
   "metadata": {},
   "outputs": [
    {
     "name": "stdout",
     "output_type": "stream",
     "text": [
      "1 2 \n",
      "3 4 \n",
      "5 6 \n",
      "7 8 \n"
     ]
    }
   ],
   "source": [
    "a = [[1,2],[3,4],[5,6],[7,8]]\n",
    "i=0\n",
    "while i < len(a):\n",
    "    j=0\n",
    "    while j < len(a[i]):\n",
    "        print(a[i][j], end= ' ')\n",
    "        j += 1\n",
    "    print()\n",
    "    i += 1 "
   ]
  },
  {
   "cell_type": "code",
   "execution_count": 32,
   "id": "59881f72",
   "metadata": {},
   "outputs": [
    {
     "name": "stdout",
     "output_type": "stream",
     "text": [
      "[0, 0, 0, 0, 0, 0, 0, 0, 0, 0]\n"
     ]
    }
   ],
   "source": [
    "a = []\n",
    "for i in range(10):\n",
    "    a.append(0)\n",
    "print(a)"
   ]
  },
  {
   "cell_type": "code",
   "execution_count": 33,
   "id": "a2c1a825",
   "metadata": {},
   "outputs": [
    {
     "name": "stdout",
     "output_type": "stream",
     "text": [
      "[0, 0, 0, 0, 0, 0, 0, 0, 0, 0]\n"
     ]
    }
   ],
   "source": [
    "a = [0 for i in range(10)]\n",
    "print(a)"
   ]
  },
  {
   "cell_type": "code",
   "execution_count": 34,
   "id": "749a7020",
   "metadata": {},
   "outputs": [
    {
     "name": "stdout",
     "output_type": "stream",
     "text": [
      "[[0, 0], [0, 0], [0, 0]]\n"
     ]
    }
   ],
   "source": [
    "a = []\n",
    "for i in range(3):\n",
    "    line = []\n",
    "    for j in range(2):\n",
    "        line.append(0)\n",
    "    a.append(line)\n",
    "    \n",
    "print(a)"
   ]
  },
  {
   "cell_type": "code",
   "execution_count": 35,
   "id": "7fc61fc1",
   "metadata": {},
   "outputs": [
    {
     "name": "stdout",
     "output_type": "stream",
     "text": [
      "[[0, 0], [0, 0], [0, 0]]\n"
     ]
    }
   ],
   "source": [
    "a = [ [0 for j in range(2)] for i in range(3)]   \n",
    "print(a)"
   ]
  },
  {
   "cell_type": "code",
   "execution_count": 37,
   "id": "fa187158",
   "metadata": {},
   "outputs": [
    {
     "name": "stdout",
     "output_type": "stream",
     "text": [
      "[[0, 0], [0, 0], [0, 0]]\n"
     ]
    }
   ],
   "source": [
    "a = [ [0]*2 for i in range(3)]   \n",
    "print(a)"
   ]
  },
  {
   "cell_type": "code",
   "execution_count": 40,
   "id": "5588565a",
   "metadata": {},
   "outputs": [
    {
     "name": "stdout",
     "output_type": "stream",
     "text": [
      "[[50, 20], [30, 40]]\n",
      "[[50, 20], [30, 40]]\n"
     ]
    }
   ],
   "source": [
    "a = [[10,20],[30,40]]\n",
    "b = a\n",
    "b[0][0]=50\n",
    "print(a)\n",
    "print(b)"
   ]
  },
  {
   "cell_type": "code",
   "execution_count": 41,
   "id": "ae82f506",
   "metadata": {},
   "outputs": [
    {
     "name": "stdout",
     "output_type": "stream",
     "text": [
      "[[50, 20], [30, 40]]\n",
      "[[50, 20], [30, 40]]\n"
     ]
    }
   ],
   "source": [
    "a = [[10,20],[30,40]]\n",
    "b = a.copy()\n",
    "b[0][0]=50\n",
    "print(a)\n",
    "print(b)"
   ]
  },
  {
   "cell_type": "code",
   "execution_count": 42,
   "id": "33c3d215",
   "metadata": {},
   "outputs": [
    {
     "name": "stdout",
     "output_type": "stream",
     "text": [
      "[[10, 20], [30, 40]]\n",
      "[[50, 20], [30, 40]]\n"
     ]
    }
   ],
   "source": [
    "import copy\n",
    "a = [[10,20],[30,40]]\n",
    "b = copy.deepcopy(a)\n",
    "b[0][0]=50\n",
    "print(a)\n",
    "print(b)"
   ]
  },
  {
   "cell_type": "markdown",
   "id": "f92cd603",
   "metadata": {},
   "source": [
    "### 이차원 배열을 이용한 로직"
   ]
  },
  {
   "cell_type": "code",
   "execution_count": 47,
   "id": "83e3a198",
   "metadata": {},
   "outputs": [
    {
     "name": "stdout",
     "output_type": "stream",
     "text": [
      "숫자 입력:5\n",
      " 1  2  3  4  5 \n",
      " 6  7  8  9 10 \n",
      "11 12 13 14 15 \n",
      "16 17 18 19 20 \n",
      "21 22 23 24 25 \n"
     ]
    }
   ],
   "source": [
    "n = int(input(\"숫자 입력:\"))\n",
    "\n",
    "a = [ [0]*n for i in range(n) ]\n",
    "\n",
    "count = 1\n",
    "for i in range(n):\n",
    "    for j in range(n):\n",
    "        a[i][j] = count\n",
    "        count += 1\n",
    "\n",
    "for i in range(n):\n",
    "    for j in range(n):\n",
    "        print( \"%2d\" % a[i][j], end=' ')\n",
    "    print()\n",
    "    "
   ]
  },
  {
   "cell_type": "code",
   "execution_count": 49,
   "id": "a37b902e",
   "metadata": {},
   "outputs": [
    {
     "name": "stdout",
     "output_type": "stream",
     "text": [
      "숫자 입력:7\n",
      "43 36 29 22 15  8  1 \n",
      "44 37 30 23 16  9  2 \n",
      "45 38 31 24 17 10  3 \n",
      "46 39 32 25 18 11  4 \n",
      "47 40 33 26 19 12  5 \n",
      "48 41 34 27 20 13  6 \n",
      "49 42 35 28 21 14  7 \n"
     ]
    }
   ],
   "source": [
    "n = int(input(\"숫자 입력:\"))\n",
    "\n",
    "a = [ [0]*n for i in range(n) ]\n",
    "\n",
    "count = 1\n",
    "for i in range(n):\n",
    "    for j in range(n):\n",
    "        a[j][n-i-1] = count\n",
    "        count += 1\n",
    "\n",
    "for i in range(n):\n",
    "    for j in range(n):\n",
    "        print( \"%2d\" % a[i][j], end=' ')\n",
    "    print()"
   ]
  },
  {
   "cell_type": "code",
   "execution_count": 57,
   "id": "bccd21e2",
   "metadata": {},
   "outputs": [
    {
     "name": "stdout",
     "output_type": "stream",
     "text": [
      "숫자 입력:11\n",
      "   1    2    3    4    5    6    7    8    9   10   11 \n",
      "  40   41   42   43   44   45   46   47   48   49   12 \n",
      "  39   72   73   74   75   76   77   78   79   50   13 \n",
      "  38   71   96   97   98   99  100  101   80   51   14 \n",
      "  37   70   95  112  113  114  115  102   81   52   15 \n",
      "  36   69   94  111  120  121  116  103   82   53   16 \n",
      "  35   68   93  110  119  118  117  104   83   54   17 \n",
      "  34   67   92  109  108  107  106  105   84   55   18 \n",
      "  33   66   91   90   89   88   87   86   85   56   19 \n",
      "  32   65   64   63   62   61   60   59   58   57   20 \n",
      "  31   30   29   28   27   26   25   24   23   22   21 \n"
     ]
    }
   ],
   "source": [
    "n = int(input(\"숫자 입력:\"))\n",
    "\n",
    "a = [ [0]*n for i in range(n) ]\n",
    "\n",
    "row=0\n",
    "col=-1\n",
    "\n",
    "count = 1\n",
    "cnt = n\n",
    "while True:\n",
    "    for j in range(cnt):\n",
    "        col += 1\n",
    "        a[row][col] = count\n",
    "        count += 1\n",
    "    cnt -= 1 \n",
    "    if cnt == 0 :\n",
    "        break\n",
    "    \n",
    "    for j in range(cnt):\n",
    "        row += 1\n",
    "        a[row][col] = count\n",
    "        count += 1\n",
    "        \n",
    "    for j in range(cnt):\n",
    "        col -= 1\n",
    "        a[row][col] = count\n",
    "        count += 1\n",
    "    cnt -= 1 \n",
    "    \n",
    "    if cnt == 0 :\n",
    "        break\n",
    "    \n",
    "    for j in range(cnt):\n",
    "        row -= 1\n",
    "        a[row][col] = count\n",
    "        count += 1\n",
    "\n",
    "for i in range(n):\n",
    "    for j in range(n):\n",
    "        print( \"%4d\" % a[i][j], end=' ')\n",
    "    print()        \n"
   ]
  },
  {
   "cell_type": "code",
   "execution_count": 58,
   "id": "5d63b069",
   "metadata": {},
   "outputs": [
    {
     "name": "stdout",
     "output_type": "stream",
     "text": [
      "숫자 입력:5\n",
      "   1    2    3    4    5 \n",
      "  16   17   18   19    6 \n",
      "  15   24   25   20    7 \n",
      "  14   23   22   21    8 \n",
      "  13   12   11   10    9 \n"
     ]
    }
   ],
   "source": [
    "n = int(input(\"숫자 입력:\"))\n",
    "\n",
    "a = [ [0]*n for i in range(n) ]\n",
    "\n",
    "row=0\n",
    "col=-1\n",
    "sign = 1\n",
    "count = 1\n",
    "cnt = n\n",
    "while True:\n",
    "    for j in range(cnt):\n",
    "        col += sign\n",
    "        a[row][col] = count\n",
    "        count += 1\n",
    "    cnt -= 1 \n",
    "    if cnt == 0 :\n",
    "        break\n",
    "    \n",
    "    for j in range(cnt):\n",
    "        row += sign\n",
    "        a[row][col] = count\n",
    "        count += 1\n",
    "        \n",
    "    sign = -sign\n",
    "\n",
    "for i in range(n):\n",
    "    for j in range(n):\n",
    "        print( \"%4d\" % a[i][j], end=' ')\n",
    "    print()  "
   ]
  },
  {
   "cell_type": "markdown",
   "id": "675f72e0",
   "metadata": {},
   "source": [
    "### 마방진 만들기"
   ]
  },
  {
   "cell_type": "code",
   "execution_count": 61,
   "id": "8c5c068a",
   "metadata": {},
   "outputs": [
    {
     "name": "stdout",
     "output_type": "stream",
     "text": [
      "숫자 입력:11\n",
      "  66   53   40   27   14    1  120  107   94   81   68 \n",
      "  67   65   52   39   26   13   11  119  106   93   80 \n",
      "  79   77   64   51   38   25   12   10  118  105   92 \n",
      "  91   78   76   63   50   37   24   22    9  117  104 \n",
      " 103   90   88   75   62   49   36   23   21    8  116 \n",
      " 115  102   89   87   74   61   48   35   33   20    7 \n",
      "   6  114  101   99   86   73   60   47   34   32   19 \n",
      "  18    5  113  100   98   85   72   59   46   44   31 \n",
      "  30   17    4  112  110   97   84   71   58   45   43 \n",
      "  42   29   16    3  111  109   96   83   70   57   55 \n",
      "  54   41   28   15    2  121  108   95   82   69   56 \n"
     ]
    }
   ],
   "source": [
    "n = int(input(\"숫자 입력:\"))\n",
    "\n",
    "a = [ [0]*n for i in range(n) ]\n",
    "\n",
    "row=0\n",
    "col=n//2\n",
    "sign = 1\n",
    "count = 1\n",
    "cnt = n\n",
    "a[row][col] = count\n",
    "\n",
    "while count < n*n:\n",
    "    count += 1\n",
    "    c = col\n",
    "    r = row\n",
    "    c -= 1\n",
    "    r -= 1\n",
    "    \n",
    "    if c < 0:\n",
    "        c = n-1\n",
    "        \n",
    "    if r < 0:\n",
    "        r = n-1\n",
    "    \n",
    "    if a[r][c] != 0:\n",
    "        c = col\n",
    "        r = row+1\n",
    "       \n",
    "    a[r][c] = count\n",
    "        \n",
    "    col = c\n",
    "    row = r\n",
    "\n",
    "for i in range(n):\n",
    "    for j in range(n):\n",
    "        print( \"%4d\" % a[i][j], end=' ')\n",
    "    print()  "
   ]
  },
  {
   "cell_type": "markdown",
   "id": "9faab7b1",
   "metadata": {},
   "source": [
    "### 대각선 배열 만들기"
   ]
  },
  {
   "cell_type": "code",
   "execution_count": 63,
   "id": "30e02fb8",
   "metadata": {
    "scrolled": true
   },
   "outputs": [
    {
     "name": "stdout",
     "output_type": "stream",
     "text": [
      "숫자 입력:15\n",
      " 1  3  6 10 15 21 28 36 45 55 66 78 91 105 120 \n",
      " 2  5  9 14 20 27 35 44 54 65 77 90 104 119  0 \n",
      " 4  8 13 19 26 34 43 53 64 76 89 103 118  0  0 \n",
      " 7 12 18 25 33 42 52 63 75 88 102 117  0  0  0 \n",
      "11 17 24 32 41 51 62 74 87 101 116  0  0  0  0 \n",
      "16 23 31 40 50 61 73 86 100 115  0  0  0  0  0 \n",
      "22 30 39 49 60 72 85 99 114  0  0  0  0  0  0 \n",
      "29 38 48 59 71 84 98 113  0  0  0  0  0  0  0 \n",
      "37 47 58 70 83 97 112  0  0  0  0  0  0  0  0 \n",
      "46 57 69 82 96 111  0  0  0  0  0  0  0  0  0 \n",
      "56 68 81 95 110  0  0  0  0  0  0  0  0  0  0 \n",
      "67 80 94 109  0  0  0  0  0  0  0  0  0  0  0 \n",
      "79 93 108  0  0  0  0  0  0  0  0  0  0  0  0 \n",
      "92 107  0  0  0  0  0  0  0  0  0  0  0  0  0 \n",
      "106  0  0  0  0  0  0  0  0  0  0  0  0  0  0 \n"
     ]
    }
   ],
   "source": [
    "n = int(input(\"숫자 입력:\"))\n",
    "\n",
    "a = [ [0]*n for i in range(n) ]\n",
    "\n",
    "count = 1\n",
    "for i in range(n):\n",
    "    for j in range(i+1):\n",
    "        a[i-j][j] = count\n",
    "        count += 1\n",
    "\n",
    "for i in range(n):\n",
    "    for j in range(n):\n",
    "        print( \"%2d\" % a[i][j], end=' ')\n",
    "    print()"
   ]
  },
  {
   "cell_type": "code",
   "execution_count": 66,
   "id": "4edacf91",
   "metadata": {},
   "outputs": [
    {
     "name": "stdout",
     "output_type": "stream",
     "text": [
      "숫자 입력:11\n",
      " 1  3  6 10 15 21 28 36 45 55 66 \n",
      " 2  5  9 14 20 27 35 44 54 65 76 \n",
      " 4  8 13 19 26 34 43 53 64 75 85 \n",
      " 7 12 18 25 33 42 52 63 74 84 93 \n",
      "11 17 24 32 41 51 62 73 83 92 100 \n",
      "16 23 31 40 50 61 72 82 91 99 106 \n",
      "22 30 39 49 60 71 81 90 98 105 111 \n",
      "29 38 48 59 70 80 89 97 104 110 115 \n",
      "37 47 58 69 79 88 96 103 109 114 118 \n",
      "46 57 68 78 87 95 102 108 113 117 120 \n",
      "56 67 77 86 94 101 107 112 116 119 121 \n"
     ]
    }
   ],
   "source": [
    "n = int(input(\"숫자 입력:\"))\n",
    "\n",
    "a = [ [0]*n for i in range(n) ]\n",
    "\n",
    "count = 1\n",
    "for i in range(n*2-1):\n",
    "    for j in range(n):\n",
    "        for k in range(n):\n",
    "            if  j+k == i:\n",
    "                a[k][j] = count\n",
    "                count += 1\n",
    "\n",
    "for i in range(n):\n",
    "    for j in range(n):\n",
    "        print( \"%2d\" % a[i][j], end=' ')\n",
    "    print()"
   ]
  },
  {
   "cell_type": "markdown",
   "id": "43c9892c",
   "metadata": {},
   "source": [
    "### 문자열 조작하기"
   ]
  },
  {
   "cell_type": "code",
   "execution_count": 67,
   "id": "3332b8ac",
   "metadata": {},
   "outputs": [
    {
     "data": {
      "text/plain": [
       "'Hello, Python!'"
      ]
     },
     "execution_count": 67,
     "metadata": {},
     "output_type": "execute_result"
    }
   ],
   "source": [
    "'Hello, world!'.replace('world', 'Python')"
   ]
  },
  {
   "cell_type": "code",
   "execution_count": 69,
   "id": "0fa31591",
   "metadata": {},
   "outputs": [
    {
     "name": "stdout",
     "output_type": "stream",
     "text": [
      "Hello, Python!\n",
      "Hello, world!\n"
     ]
    }
   ],
   "source": [
    "s = 'Hello, world!'\n",
    "print(s.replace('world', 'Python'))\n",
    "print(s)"
   ]
  },
  {
   "cell_type": "code",
   "execution_count": 70,
   "id": "77b5908d",
   "metadata": {},
   "outputs": [
    {
     "name": "stdout",
     "output_type": "stream",
     "text": [
      "Hello, Python!\n",
      "Hello, Python!\n"
     ]
    }
   ],
   "source": [
    "s = 'Hello, world!'\n",
    "print(s.replace('world', 'Python'))\n",
    "s = s.replace('world', 'Python')\n",
    "print(s)"
   ]
  },
  {
   "cell_type": "code",
   "execution_count": 71,
   "id": "e564c850",
   "metadata": {},
   "outputs": [
    {
     "data": {
      "text/plain": [
       "'1ppl2'"
      ]
     },
     "execution_count": 71,
     "metadata": {},
     "output_type": "execute_result"
    }
   ],
   "source": [
    "table = str.maketrans('aeiou', '12345')\n",
    "'apple'.translate(table)"
   ]
  },
  {
   "cell_type": "markdown",
   "id": "7400e72d",
   "metadata": {},
   "source": [
    "### 문자열 분리하기"
   ]
  },
  {
   "cell_type": "code",
   "execution_count": 74,
   "id": "2ff26a72",
   "metadata": {},
   "outputs": [
    {
     "name": "stdout",
     "output_type": "stream",
     "text": [
      "['apple', 'pear', 'grape', 'pinapple', 'orange']\n"
     ]
    }
   ],
   "source": [
    "a = 'apple pear grape pinapple orange'.split()\n",
    "print(a)"
   ]
  },
  {
   "cell_type": "code",
   "execution_count": 76,
   "id": "8f219dac",
   "metadata": {},
   "outputs": [
    {
     "name": "stdout",
     "output_type": "stream",
     "text": [
      "['apple', 'pear', 'grape', 'pinapple', 'orange']\n"
     ]
    }
   ],
   "source": [
    "a = 'apple, pear, grape, pinapple, orange'.split(', ')\n",
    "print(a)"
   ]
  },
  {
   "cell_type": "code",
   "execution_count": 77,
   "id": "b8cb52fc",
   "metadata": {},
   "outputs": [
    {
     "name": "stdout",
     "output_type": "stream",
     "text": [
      "['apple', 'pear', 'grape', 'pinapple', 'orange']\n"
     ]
    }
   ],
   "source": [
    "a = ['apple', 'pear', 'grape', 'pinapple', 'orange']\n",
    "print(a)"
   ]
  },
  {
   "cell_type": "code",
   "execution_count": 78,
   "id": "379749c7",
   "metadata": {},
   "outputs": [
    {
     "data": {
      "text/plain": [
       "'apple pear grape pinapple orange'"
      ]
     },
     "execution_count": 78,
     "metadata": {},
     "output_type": "execute_result"
    }
   ],
   "source": [
    "' '.join(['apple', 'pear', 'grape', 'pinapple', 'orange'])"
   ]
  },
  {
   "cell_type": "code",
   "execution_count": 81,
   "id": "4842b58d",
   "metadata": {},
   "outputs": [
    {
     "name": "stdout",
     "output_type": "stream",
     "text": [
      "apple-pear-grape-pinapple-orange\n"
     ]
    }
   ],
   "source": [
    "a = ['apple', 'pear', 'grape', 'pinapple', 'orange']\n",
    "a = '-'.join(a)\n",
    "print(a)"
   ]
  },
  {
   "cell_type": "code",
   "execution_count": 82,
   "id": "0dfff1cf",
   "metadata": {},
   "outputs": [
    {
     "data": {
      "text/plain": [
       "'PYTHON'"
      ]
     },
     "execution_count": 82,
     "metadata": {},
     "output_type": "execute_result"
    }
   ],
   "source": [
    "'python'.upper()"
   ]
  },
  {
   "cell_type": "code",
   "execution_count": 83,
   "id": "c615e346",
   "metadata": {},
   "outputs": [
    {
     "data": {
      "text/plain": [
       "'python'"
      ]
     },
     "execution_count": 83,
     "metadata": {},
     "output_type": "execute_result"
    }
   ],
   "source": [
    "'PYTHON'.lower()"
   ]
  },
  {
   "cell_type": "code",
   "execution_count": 87,
   "id": "1aa84c60",
   "metadata": {},
   "outputs": [
    {
     "data": {
      "text/plain": [
       "'Python   '"
      ]
     },
     "execution_count": 87,
     "metadata": {},
     "output_type": "execute_result"
    }
   ],
   "source": [
    "'    Python   '.lstrip()"
   ]
  },
  {
   "cell_type": "code",
   "execution_count": 85,
   "id": "4328518e",
   "metadata": {},
   "outputs": [
    {
     "data": {
      "text/plain": [
       "'    Python'"
      ]
     },
     "execution_count": 85,
     "metadata": {},
     "output_type": "execute_result"
    }
   ],
   "source": [
    "'    Python   '.rstrip()"
   ]
  },
  {
   "cell_type": "code",
   "execution_count": 86,
   "id": "381cab31",
   "metadata": {},
   "outputs": [
    {
     "data": {
      "text/plain": [
       "'Python'"
      ]
     },
     "execution_count": 86,
     "metadata": {},
     "output_type": "execute_result"
    }
   ],
   "source": [
    "'    Python   '.strip()"
   ]
  },
  {
   "cell_type": "code",
   "execution_count": 88,
   "id": "a800973e",
   "metadata": {},
   "outputs": [
    {
     "data": {
      "text/plain": [
       "'Python   '"
      ]
     },
     "execution_count": 88,
     "metadata": {},
     "output_type": "execute_result"
    }
   ],
   "source": [
    "'......Python   '.lstrip('.')"
   ]
  },
  {
   "cell_type": "code",
   "execution_count": 89,
   "id": "e1f6e838",
   "metadata": {},
   "outputs": [
    {
     "data": {
      "text/plain": [
       "'Python   '"
      ]
     },
     "execution_count": 89,
     "metadata": {},
     "output_type": "execute_result"
    }
   ],
   "source": [
    "'.,.,.,.Python   '.lstrip('.,')"
   ]
  },
  {
   "cell_type": "code",
   "execution_count": 92,
   "id": "6ee11be0",
   "metadata": {},
   "outputs": [
    {
     "data": {
      "text/plain": [
       "'python    '"
      ]
     },
     "execution_count": 92,
     "metadata": {},
     "output_type": "execute_result"
    }
   ],
   "source": [
    "'python'.ljust(10)"
   ]
  },
  {
   "cell_type": "code",
   "execution_count": 93,
   "id": "bb1cadf3",
   "metadata": {},
   "outputs": [
    {
     "data": {
      "text/plain": [
       "'    python'"
      ]
     },
     "execution_count": 93,
     "metadata": {},
     "output_type": "execute_result"
    }
   ],
   "source": [
    "'python'.rjust(10)"
   ]
  },
  {
   "cell_type": "code",
   "execution_count": 95,
   "id": "5b2b9f55",
   "metadata": {},
   "outputs": [
    {
     "data": {
      "text/plain": [
       "'   python  '"
      ]
     },
     "execution_count": 95,
     "metadata": {},
     "output_type": "execute_result"
    }
   ],
   "source": [
    "'python'.center(11)"
   ]
  },
  {
   "cell_type": "code",
   "execution_count": 97,
   "id": "46e4e69c",
   "metadata": {},
   "outputs": [
    {
     "data": {
      "text/plain": [
       "'    PYTHON'"
      ]
     },
     "execution_count": 97,
     "metadata": {},
     "output_type": "execute_result"
    }
   ],
   "source": [
    "'python'.rjust(10).upper()"
   ]
  },
  {
   "cell_type": "code",
   "execution_count": 98,
   "id": "004bfe05",
   "metadata": {},
   "outputs": [
    {
     "data": {
      "text/plain": [
       "'0035'"
      ]
     },
     "execution_count": 98,
     "metadata": {},
     "output_type": "execute_result"
    }
   ],
   "source": [
    "'35'.zfill(4)"
   ]
  },
  {
   "cell_type": "code",
   "execution_count": 99,
   "id": "0d5792c2",
   "metadata": {},
   "outputs": [
    {
     "data": {
      "text/plain": [
       "'0003.5'"
      ]
     },
     "execution_count": 99,
     "metadata": {},
     "output_type": "execute_result"
    }
   ],
   "source": [
    "'3.5'.zfill(6)"
   ]
  },
  {
   "cell_type": "code",
   "execution_count": 100,
   "id": "9bb72aee",
   "metadata": {},
   "outputs": [
    {
     "data": {
      "text/plain": [
       "'00000hello'"
      ]
     },
     "execution_count": 100,
     "metadata": {},
     "output_type": "execute_result"
    }
   ],
   "source": [
    "'hello'.zfill(10)"
   ]
  },
  {
   "cell_type": "code",
   "execution_count": 101,
   "id": "032bafb3",
   "metadata": {},
   "outputs": [
    {
     "data": {
      "text/plain": [
       "2"
      ]
     },
     "execution_count": 101,
     "metadata": {},
     "output_type": "execute_result"
    }
   ],
   "source": [
    "'apple pineaple'.find('pl')"
   ]
  },
  {
   "cell_type": "code",
   "execution_count": 102,
   "id": "d78ef5c1",
   "metadata": {},
   "outputs": [
    {
     "data": {
      "text/plain": [
       "-1"
      ]
     },
     "execution_count": 102,
     "metadata": {},
     "output_type": "execute_result"
    }
   ],
   "source": [
    "'apple pineaple'.find('xy')"
   ]
  },
  {
   "cell_type": "code",
   "execution_count": 103,
   "id": "5dad0dad",
   "metadata": {},
   "outputs": [
    {
     "data": {
      "text/plain": [
       "11"
      ]
     },
     "execution_count": 103,
     "metadata": {},
     "output_type": "execute_result"
    }
   ],
   "source": [
    "'apple pineaple'.rfind('pl')"
   ]
  },
  {
   "cell_type": "code",
   "execution_count": 104,
   "id": "825a628a",
   "metadata": {},
   "outputs": [
    {
     "data": {
      "text/plain": [
       "-1"
      ]
     },
     "execution_count": 104,
     "metadata": {},
     "output_type": "execute_result"
    }
   ],
   "source": [
    "'apple pineaple'.rfind('xy')"
   ]
  },
  {
   "cell_type": "code",
   "execution_count": 106,
   "id": "ebcb6410",
   "metadata": {},
   "outputs": [
    {
     "data": {
      "text/plain": [
       "2"
      ]
     },
     "execution_count": 106,
     "metadata": {},
     "output_type": "execute_result"
    }
   ],
   "source": [
    "'apple pineaple'.index('pl')"
   ]
  },
  {
   "cell_type": "code",
   "execution_count": 107,
   "id": "86f5fa85",
   "metadata": {},
   "outputs": [
    {
     "ename": "ValueError",
     "evalue": "substring not found",
     "output_type": "error",
     "traceback": [
      "\u001b[1;31m---------------------------------------------------------------------------\u001b[0m",
      "\u001b[1;31mValueError\u001b[0m                                Traceback (most recent call last)",
      "\u001b[1;32m~\\AppData\\Local\\Temp/ipykernel_3936/1754686114.py\u001b[0m in \u001b[0;36m<module>\u001b[1;34m\u001b[0m\n\u001b[1;32m----> 1\u001b[1;33m \u001b[1;34m'apple pineaple'\u001b[0m\u001b[1;33m.\u001b[0m\u001b[0mindex\u001b[0m\u001b[1;33m(\u001b[0m\u001b[1;34m'xy'\u001b[0m\u001b[1;33m)\u001b[0m\u001b[1;33m\u001b[0m\u001b[1;33m\u001b[0m\u001b[0m\n\u001b[0m",
      "\u001b[1;31mValueError\u001b[0m: substring not found"
     ]
    }
   ],
   "source": [
    "'apple pineaple'.index('xy')"
   ]
  },
  {
   "cell_type": "code",
   "execution_count": 108,
   "id": "6d8dd3b3",
   "metadata": {},
   "outputs": [
    {
     "data": {
      "text/plain": [
       "2"
      ]
     },
     "execution_count": 108,
     "metadata": {},
     "output_type": "execute_result"
    }
   ],
   "source": [
    "'apple pineaple'.count('pl')"
   ]
  },
  {
   "cell_type": "code",
   "execution_count": 109,
   "id": "b3216e73",
   "metadata": {},
   "outputs": [
    {
     "data": {
      "text/plain": [
       "'I am james  '"
      ]
     },
     "execution_count": 109,
     "metadata": {},
     "output_type": "execute_result"
    }
   ],
   "source": [
    "'I am %s  '% 'james'"
   ]
  },
  {
   "cell_type": "code",
   "execution_count": 110,
   "id": "eed9deef",
   "metadata": {},
   "outputs": [
    {
     "name": "stdout",
     "output_type": "stream",
     "text": [
      "I am james  \n"
     ]
    }
   ],
   "source": [
    "print('I am %s  '% 'james')"
   ]
  },
  {
   "cell_type": "code",
   "execution_count": 111,
   "id": "0d337200",
   "metadata": {},
   "outputs": [
    {
     "name": "stdout",
     "output_type": "stream",
     "text": [
      "I am 20 ysers old  \n"
     ]
    }
   ],
   "source": [
    "print('I am %d ysers old  '% 20)"
   ]
  },
  {
   "cell_type": "code",
   "execution_count": 113,
   "id": "3527b293",
   "metadata": {},
   "outputs": [
    {
     "name": "stdout",
     "output_type": "stream",
     "text": [
      "I am 24 ysers old  \n"
     ]
    }
   ],
   "source": [
    "print('I am %o ysers old  '% 20)"
   ]
  },
  {
   "cell_type": "code",
   "execution_count": 114,
   "id": "70edd7d7",
   "metadata": {},
   "outputs": [
    {
     "name": "stdout",
     "output_type": "stream",
     "text": [
      "2.300000\n"
     ]
    }
   ],
   "source": [
    "print( '%f'%2.3)"
   ]
  },
  {
   "cell_type": "code",
   "execution_count": 116,
   "id": "e5fca32a",
   "metadata": {},
   "outputs": [
    {
     "name": "stdout",
     "output_type": "stream",
     "text": [
      "2.300\n"
     ]
    }
   ],
   "source": [
    "print( '%.3f'%2.3)"
   ]
  },
  {
   "cell_type": "code",
   "execution_count": 118,
   "id": "75334eba",
   "metadata": {},
   "outputs": [
    {
     "name": "stdout",
     "output_type": "stream",
     "text": [
      "[    python]\n"
     ]
    }
   ],
   "source": [
    "print( '[%10s]'% 'python')"
   ]
  },
  {
   "cell_type": "code",
   "execution_count": 120,
   "id": "1e1c977f",
   "metadata": {},
   "outputs": [
    {
     "name": "stdout",
     "output_type": "stream",
     "text": [
      "[        12]\n",
      "[      1234]\n"
     ]
    }
   ],
   "source": [
    "print( '[%10d]'% 12)\n",
    "print( '[%10d]'% 1234)"
   ]
  },
  {
   "cell_type": "code",
   "execution_count": 122,
   "id": "6ad6a769",
   "metadata": {},
   "outputs": [
    {
     "name": "stdout",
     "output_type": "stream",
     "text": [
      "[     2.300]\n"
     ]
    }
   ],
   "source": [
    "print( '[%10.3f]'% 2.3)"
   ]
  },
  {
   "cell_type": "code",
   "execution_count": 123,
   "id": "ab3e2fea",
   "metadata": {},
   "outputs": [
    {
     "name": "stdout",
     "output_type": "stream",
     "text": [
      "[python    ]\n"
     ]
    }
   ],
   "source": [
    "print( '[%-10s]'% 'python')"
   ]
  },
  {
   "cell_type": "code",
   "execution_count": 124,
   "id": "78358faa",
   "metadata": {},
   "outputs": [
    {
     "name": "stdout",
     "output_type": "stream",
     "text": [
      "Today is 3 April\n"
     ]
    }
   ],
   "source": [
    "print( 'Today is %d %s'%(3, 'April'))"
   ]
  },
  {
   "cell_type": "code",
   "execution_count": 125,
   "id": "6a256a78",
   "metadata": {},
   "outputs": [
    {
     "data": {
      "text/plain": [
       "'Hello, world'"
      ]
     },
     "execution_count": 125,
     "metadata": {},
     "output_type": "execute_result"
    }
   ],
   "source": [
    "'Hello, {0}'.format('world')"
   ]
  },
  {
   "cell_type": "code",
   "execution_count": 126,
   "id": "29232a20",
   "metadata": {},
   "outputs": [
    {
     "data": {
      "text/plain": [
       "'Hello, 123'"
      ]
     },
     "execution_count": 126,
     "metadata": {},
     "output_type": "execute_result"
    }
   ],
   "source": [
    "'Hello, {0}'.format(123)"
   ]
  },
  {
   "cell_type": "code",
   "execution_count": 127,
   "id": "d4eb52d7",
   "metadata": {},
   "outputs": [
    {
     "data": {
      "text/plain": [
       "'Hello, Python 3.6 Script'"
      ]
     },
     "execution_count": 127,
     "metadata": {},
     "output_type": "execute_result"
    }
   ],
   "source": [
    "'Hello, {0} {2} {1}'.format('Python', 'Script', 3.6)"
   ]
  },
  {
   "cell_type": "code",
   "execution_count": 128,
   "id": "02ac74c1",
   "metadata": {},
   "outputs": [
    {
     "data": {
      "text/plain": [
       "'Python Python Script Script'"
      ]
     },
     "execution_count": 128,
     "metadata": {},
     "output_type": "execute_result"
    }
   ],
   "source": [
    "'{0} {0} {1} {1}'.format( 'Python', 'Script')"
   ]
  },
  {
   "cell_type": "code",
   "execution_count": 129,
   "id": "75c51fe0",
   "metadata": {},
   "outputs": [
    {
     "data": {
      "text/plain": [
       "'Hello, Python Script 3.6'"
      ]
     },
     "execution_count": 129,
     "metadata": {},
     "output_type": "execute_result"
    }
   ],
   "source": [
    "'Hello, {} {} {}'.format('Python', 'Script', 3.6)"
   ]
  },
  {
   "cell_type": "code",
   "execution_count": 130,
   "id": "a70a4e28",
   "metadata": {},
   "outputs": [
    {
     "data": {
      "text/plain": [
       "'Hello, Python Script'"
      ]
     },
     "execution_count": 130,
     "metadata": {},
     "output_type": "execute_result"
    }
   ],
   "source": [
    "'Hello, {language} {version}'.format(language='Python', version='Script')"
   ]
  },
  {
   "cell_type": "code",
   "execution_count": 131,
   "id": "f8f03f50",
   "metadata": {},
   "outputs": [
    {
     "data": {
      "text/plain": [
       "'Hello, Python    '"
      ]
     },
     "execution_count": 131,
     "metadata": {},
     "output_type": "execute_result"
    }
   ],
   "source": [
    "'Hello, {0:<10}'.format('Python')"
   ]
  },
  {
   "cell_type": "code",
   "execution_count": 132,
   "id": "6a4db048",
   "metadata": {},
   "outputs": [
    {
     "data": {
      "text/plain": [
       "'Hello,     Python'"
      ]
     },
     "execution_count": 132,
     "metadata": {},
     "output_type": "execute_result"
    }
   ],
   "source": [
    "'Hello, {0:>10}'.format('Python')"
   ]
  },
  {
   "cell_type": "code",
   "execution_count": 135,
   "id": "7cc6f43d",
   "metadata": {},
   "outputs": [
    {
     "data": {
      "text/plain": [
       "'001'"
      ]
     },
     "execution_count": 135,
     "metadata": {},
     "output_type": "execute_result"
    }
   ],
   "source": [
    "'%03d'%1"
   ]
  },
  {
   "cell_type": "code",
   "execution_count": 139,
   "id": "7205e0e0",
   "metadata": {},
   "outputs": [
    {
     "data": {
      "text/plain": [
       "'001'"
      ]
     },
     "execution_count": 139,
     "metadata": {},
     "output_type": "execute_result"
    }
   ],
   "source": [
    "'{0:03d}'.format(1)"
   ]
  },
  {
   "cell_type": "code",
   "execution_count": 142,
   "id": "0b6c71b7",
   "metadata": {},
   "outputs": [
    {
     "data": {
      "text/plain": [
       "'00003.60'"
      ]
     },
     "execution_count": 142,
     "metadata": {},
     "output_type": "execute_result"
    }
   ],
   "source": [
    "'%08.2f'%3.6"
   ]
  },
  {
   "cell_type": "code",
   "execution_count": 144,
   "id": "29039e8a",
   "metadata": {},
   "outputs": [
    {
     "data": {
      "text/plain": [
       "'00003.60'"
      ]
     },
     "execution_count": 144,
     "metadata": {},
     "output_type": "execute_result"
    }
   ],
   "source": [
    "'{0:08.2f}'.format(3.6)"
   ]
  },
  {
   "cell_type": "code",
   "execution_count": 145,
   "id": "e134a3f8",
   "metadata": {},
   "outputs": [
    {
     "data": {
      "text/plain": [
       "{'a': 10, 'b': 20, 'c': 30}"
      ]
     },
     "execution_count": 145,
     "metadata": {},
     "output_type": "execute_result"
    }
   ],
   "source": [
    "x = {'a':10, 'b':20, 'c':30}\n",
    "x"
   ]
  },
  {
   "cell_type": "code",
   "execution_count": 146,
   "id": "fa680fd9",
   "metadata": {},
   "outputs": [
    {
     "name": "stdout",
     "output_type": "stream",
     "text": [
      "a\n",
      "b\n",
      "c\n"
     ]
    }
   ],
   "source": [
    "for data in x:\n",
    "    print(data)"
   ]
  },
  {
   "cell_type": "code",
   "execution_count": 147,
   "id": "143807ee",
   "metadata": {},
   "outputs": [
    {
     "name": "stdout",
     "output_type": "stream",
     "text": [
      "('a', 10)\n",
      "('b', 20)\n",
      "('c', 30)\n"
     ]
    }
   ],
   "source": [
    "for data in x.items():\n",
    "    print(data)"
   ]
  },
  {
   "cell_type": "code",
   "execution_count": 148,
   "id": "14dca812",
   "metadata": {},
   "outputs": [
    {
     "name": "stdout",
     "output_type": "stream",
     "text": [
      "a 10\n",
      "b 20\n",
      "c 30\n"
     ]
    }
   ],
   "source": [
    "for key, value in x.items():\n",
    "    print(key, value)"
   ]
  },
  {
   "cell_type": "code",
   "execution_count": 149,
   "id": "8ae5f9f8",
   "metadata": {},
   "outputs": [],
   "source": [
    "x = {'a':10, 'b':20, 'c':30}"
   ]
  },
  {
   "cell_type": "code",
   "execution_count": 150,
   "id": "08b6c887",
   "metadata": {},
   "outputs": [],
   "source": [
    "x = { key:value for key, value in x.items() if value != 20}"
   ]
  },
  {
   "cell_type": "code",
   "execution_count": 151,
   "id": "dd363347",
   "metadata": {},
   "outputs": [
    {
     "name": "stdout",
     "output_type": "stream",
     "text": [
      "{'a': 10, 'c': 30}\n"
     ]
    }
   ],
   "source": [
    "print(x)"
   ]
  },
  {
   "cell_type": "markdown",
   "id": "5afa114e",
   "metadata": {},
   "source": [
    "### 집합 자료구조"
   ]
  },
  {
   "cell_type": "code",
   "execution_count": 154,
   "id": "5962e8f3",
   "metadata": {},
   "outputs": [
    {
     "name": "stdout",
     "output_type": "stream",
     "text": [
      "<class 'dict'>\n"
     ]
    }
   ],
   "source": [
    "a = {}\n",
    "print(type(a))"
   ]
  },
  {
   "cell_type": "code",
   "execution_count": 153,
   "id": "ca30122d",
   "metadata": {},
   "outputs": [
    {
     "name": "stdout",
     "output_type": "stream",
     "text": [
      "<class 'set'>\n"
     ]
    }
   ],
   "source": [
    "fruits = { 'strawberry', 'grape', 'orange', 'pineappe', 'cherry'}\n",
    "print(type(fruits))"
   ]
  },
  {
   "cell_type": "code",
   "execution_count": 155,
   "id": "cb9a672e",
   "metadata": {},
   "outputs": [
    {
     "name": "stdout",
     "output_type": "stream",
     "text": [
      "{'orange', 'cherry'}\n"
     ]
    }
   ],
   "source": [
    "fruits = { 'orange',  'orange', 'cherry'}\n",
    "print(fruits)"
   ]
  },
  {
   "cell_type": "code",
   "execution_count": 156,
   "id": "a21aecd2",
   "metadata": {},
   "outputs": [
    {
     "ename": "TypeError",
     "evalue": "'set' object is not subscriptable",
     "output_type": "error",
     "traceback": [
      "\u001b[1;31m---------------------------------------------------------------------------\u001b[0m",
      "\u001b[1;31mTypeError\u001b[0m                                 Traceback (most recent call last)",
      "\u001b[1;32m~\\AppData\\Local\\Temp/ipykernel_3936/2764696169.py\u001b[0m in \u001b[0;36m<module>\u001b[1;34m\u001b[0m\n\u001b[0;32m      1\u001b[0m \u001b[0mfruits\u001b[0m \u001b[1;33m=\u001b[0m \u001b[1;33m{\u001b[0m \u001b[1;34m'strawberry'\u001b[0m\u001b[1;33m,\u001b[0m \u001b[1;34m'grape'\u001b[0m\u001b[1;33m,\u001b[0m \u001b[1;34m'orange'\u001b[0m\u001b[1;33m,\u001b[0m \u001b[1;34m'pineappe'\u001b[0m\u001b[1;33m,\u001b[0m \u001b[1;34m'cherry'\u001b[0m\u001b[1;33m}\u001b[0m\u001b[1;33m\u001b[0m\u001b[1;33m\u001b[0m\u001b[0m\n\u001b[1;32m----> 2\u001b[1;33m \u001b[0mfruits\u001b[0m\u001b[1;33m[\u001b[0m\u001b[1;36m0\u001b[0m\u001b[1;33m]\u001b[0m\u001b[1;33m\u001b[0m\u001b[1;33m\u001b[0m\u001b[0m\n\u001b[0m",
      "\u001b[1;31mTypeError\u001b[0m: 'set' object is not subscriptable"
     ]
    }
   ],
   "source": [
    "fruits = { 'strawberry', 'grape', 'orange', 'pineappe', 'cherry'}\n",
    "fruits[0]"
   ]
  },
  {
   "cell_type": "code",
   "execution_count": 157,
   "id": "3bf7f207",
   "metadata": {},
   "outputs": [
    {
     "data": {
      "text/plain": [
       "True"
      ]
     },
     "execution_count": 157,
     "metadata": {},
     "output_type": "execute_result"
    }
   ],
   "source": [
    "'strawberry' in fruits"
   ]
  },
  {
   "cell_type": "code",
   "execution_count": 158,
   "id": "48329577",
   "metadata": {},
   "outputs": [
    {
     "data": {
      "text/plain": [
       "False"
      ]
     },
     "execution_count": 158,
     "metadata": {},
     "output_type": "execute_result"
    }
   ],
   "source": [
    "'strawberry' not in fruits"
   ]
  },
  {
   "cell_type": "code",
   "execution_count": 159,
   "id": "2dfe3a34",
   "metadata": {},
   "outputs": [
    {
     "name": "stdout",
     "output_type": "stream",
     "text": [
      "['a', 'p', 'p', 'l', 'e']\n"
     ]
    }
   ],
   "source": [
    "a = list('apple')\n",
    "print(a)"
   ]
  },
  {
   "cell_type": "code",
   "execution_count": 160,
   "id": "95eeb91b",
   "metadata": {},
   "outputs": [
    {
     "name": "stdout",
     "output_type": "stream",
     "text": [
      "{'l', 'p', 'e', 'a'}\n"
     ]
    }
   ],
   "source": [
    "a = set('apple')\n",
    "print(a)"
   ]
  },
  {
   "cell_type": "code",
   "execution_count": 161,
   "id": "dd1db553",
   "metadata": {},
   "outputs": [
    {
     "name": "stdout",
     "output_type": "stream",
     "text": [
      "{0, 1, 2, 3, 4}\n"
     ]
    }
   ],
   "source": [
    "a = set(range(5))\n",
    "print(a)"
   ]
  },
  {
   "cell_type": "code",
   "execution_count": 162,
   "id": "5a8e9981",
   "metadata": {},
   "outputs": [
    {
     "data": {
      "text/plain": [
       "set()"
      ]
     },
     "execution_count": 162,
     "metadata": {},
     "output_type": "execute_result"
    }
   ],
   "source": [
    "a = set()\n",
    "a"
   ]
  },
  {
   "cell_type": "code",
   "execution_count": 165,
   "id": "64b4c585",
   "metadata": {},
   "outputs": [
    {
     "name": "stdout",
     "output_type": "stream",
     "text": [
      "{1, 2, 3, 4, 5, 6}\n",
      "{1, 2, 3, 4, 5, 6}\n"
     ]
    }
   ],
   "source": [
    "a = {1,2,3,4}\n",
    "b = {3,4,5,6}\n",
    "print(set.union(a,b))\n",
    "print(a | b)"
   ]
  },
  {
   "cell_type": "code",
   "execution_count": 167,
   "id": "a6c07fa3",
   "metadata": {},
   "outputs": [
    {
     "name": "stdout",
     "output_type": "stream",
     "text": [
      "{3, 4}\n",
      "{3, 4}\n"
     ]
    }
   ],
   "source": [
    "a = {1,2,3,4}\n",
    "b = {3,4,5,6}\n",
    "print(set.intersection(a,b))\n",
    "print(a & b)"
   ]
  },
  {
   "cell_type": "code",
   "execution_count": 169,
   "id": "1c1a3560",
   "metadata": {},
   "outputs": [
    {
     "name": "stdout",
     "output_type": "stream",
     "text": [
      "{1, 2}\n",
      "{1, 2}\n"
     ]
    }
   ],
   "source": [
    "a = {1,2,3,4}\n",
    "b = {3,4,5,6}\n",
    "print(set.difference(a,b))\n",
    "print(a - b)"
   ]
  },
  {
   "cell_type": "code",
   "execution_count": 170,
   "id": "c4274c6d",
   "metadata": {},
   "outputs": [
    {
     "name": "stdout",
     "output_type": "stream",
     "text": [
      "{5, 6}\n",
      "{5, 6}\n"
     ]
    }
   ],
   "source": [
    "a = {1,2,3,4}\n",
    "b = {3,4,5,6}\n",
    "print(set.difference(b,a))\n",
    "print(b - a)"
   ]
  },
  {
   "cell_type": "code",
   "execution_count": 171,
   "id": "a0b561a8",
   "metadata": {},
   "outputs": [
    {
     "name": "stdout",
     "output_type": "stream",
     "text": [
      "{1, 2, 5, 6}\n",
      "{1, 2, 5, 6}\n"
     ]
    }
   ],
   "source": [
    "a = {1,2,3,4}\n",
    "b = {3,4,5,6}\n",
    "print(set.symmetric_difference(b,a))\n",
    "print(a ^ b)"
   ]
  },
  {
   "cell_type": "markdown",
   "id": "e720011a",
   "metadata": {},
   "source": [
    "### 파일 입출력"
   ]
  },
  {
   "cell_type": "code",
   "execution_count": 172,
   "id": "892ac3c9",
   "metadata": {},
   "outputs": [],
   "source": [
    "file = open('hello.txt', 'w')  # open('hello.txt', O_CREAT|O_TRUNC|O_RDWR)\n",
    "file.write('Hello, world!')\n",
    "file.close()"
   ]
  },
  {
   "cell_type": "code",
   "execution_count": 173,
   "id": "c1925df1",
   "metadata": {},
   "outputs": [
    {
     "name": "stdout",
     "output_type": "stream",
     "text": [
      "Hello, world!\n"
     ]
    }
   ],
   "source": [
    "file = open('hello.txt', 'r')  # open('hello.txt', O_CREAT|O_TRUNC|O_RDONLY)\n",
    "s = file.read()\n",
    "print(s)\n",
    "file.close()"
   ]
  },
  {
   "cell_type": "code",
   "execution_count": 174,
   "id": "e00b4489",
   "metadata": {},
   "outputs": [
    {
     "name": "stdout",
     "output_type": "stream",
     "text": [
      "Hello, world!\n"
     ]
    }
   ],
   "source": [
    "with open('hello.txt', 'r') as file:  \n",
    "    s = file.read()\n",
    "    print(s)"
   ]
  },
  {
   "cell_type": "code",
   "execution_count": 175,
   "id": "bcdcb9c7",
   "metadata": {},
   "outputs": [],
   "source": [
    "with open('hello.txt', 'w') as file:  \n",
    "    for i in range(3):\n",
    "        file.write('Hello, world! {0}\\n'.format(i))  # '\\n' => '\\r\\n'"
   ]
  }
 ],
 "metadata": {
  "kernelspec": {
   "display_name": "Python 3 (ipykernel)",
   "language": "python",
   "name": "python3"
  },
  "language_info": {
   "codemirror_mode": {
    "name": "ipython",
    "version": 3
   },
   "file_extension": ".py",
   "mimetype": "text/x-python",
   "name": "python",
   "nbconvert_exporter": "python",
   "pygments_lexer": "ipython3",
   "version": "3.9.7"
  }
 },
 "nbformat": 4,
 "nbformat_minor": 5
}
